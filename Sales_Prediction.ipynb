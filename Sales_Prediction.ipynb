{
  "nbformat": 4,
  "nbformat_minor": 0,
  "metadata": {
    "colab": {
      "provenance": [],
      "authorship_tag": "ABX9TyN+Gbfzeb9S+MF0NmQFp++2",
      "include_colab_link": true
    },
    "kernelspec": {
      "name": "python3",
      "display_name": "Python 3"
    },
    "language_info": {
      "name": "python"
    }
  },
  "cells": [
    {
      "cell_type": "markdown",
      "metadata": {
        "id": "view-in-github",
        "colab_type": "text"
      },
      "source": [
        "<a href=\"https://colab.research.google.com/github/juDecorous/Sales_Predictions/blob/main/Sales_Prediction.ipynb\" target=\"_parent\"><img src=\"https://colab.research.google.com/assets/colab-badge.svg\" alt=\"Open In Colab\"/></a>"
      ]
    },
    {
      "cell_type": "markdown",
      "source": [
        "# <center> Project Title: Sales Prediction </center>\n",
        "\n",
        "Name: Jude Maico Jr.\n"
      ],
      "metadata": {
        "id": "T1d96uG0K0kc"
      }
    },
    {
      "cell_type": "markdown",
      "source": [
        "## Loading data"
      ],
      "metadata": {
        "id": "nlfR6dPyK_QE"
      }
    },
    {
      "cell_type": "code",
      "source": [],
      "metadata": {
        "id": "bxP4W_o1LlBS"
      },
      "execution_count": null,
      "outputs": []
    },
    {
      "cell_type": "markdown",
      "source": [
        "## Data Cleaning"
      ],
      "metadata": {
        "id": "K5e1cnWTLXXR"
      }
    },
    {
      "cell_type": "code",
      "source": [],
      "metadata": {
        "id": "-R2JoFZBLln6"
      },
      "execution_count": null,
      "outputs": []
    },
    {
      "cell_type": "markdown",
      "source": [
        "## Exploratory Visuals I"
      ],
      "metadata": {
        "id": "3nk7wA3cLaZu"
      }
    },
    {
      "cell_type": "code",
      "source": [],
      "metadata": {
        "id": "ycBp_ZpNLmPC"
      },
      "execution_count": null,
      "outputs": []
    },
    {
      "cell_type": "markdown",
      "source": [
        "##Explanatory Visials II"
      ],
      "metadata": {
        "id": "apIWcIfELdYE"
      }
    },
    {
      "cell_type": "code",
      "source": [],
      "metadata": {
        "id": "hcJB3jq3Loi6"
      },
      "execution_count": null,
      "outputs": []
    }
  ]
}